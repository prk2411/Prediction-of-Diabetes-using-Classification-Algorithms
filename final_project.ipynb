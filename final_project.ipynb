{
 "cells": [
  {
   "cell_type": "markdown",
   "metadata": {},
   "source": [
    "# Prediction of Diabetes using Classification Algorithms"
   ]
  },
  {
   "cell_type": "markdown",
   "metadata": {},
   "source": [
    "### Overview of the Project.\n",
    "\n",
    "As per the project proposal we will be trying to predict diabetes in patinets given the medical features of the patients using classification algorithms with using Scikit_Learn and Python Programming.\n"
   ]
  },
  {
   "cell_type": "markdown",
   "metadata": {},
   "source": [
    "#### Loading Libraries"
   ]
  },
  {
   "cell_type": "code",
   "execution_count": 1,
   "metadata": {},
   "outputs": [],
   "source": [
    "import pandas as pd\n",
    "import numpy as np\n",
    "import matplotlib.pyplot as plt"
   ]
  },
  {
   "cell_type": "markdown",
   "metadata": {},
   "source": [
    "#### Importing dataset from local PC's location."
   ]
  },
  {
   "cell_type": "code",
   "execution_count": 2,
   "metadata": {},
   "outputs": [],
   "source": [
    "df = pd.read_csv(r'C:\\Users\\PRK\\Desktop\\ML\\pima.csv')"
   ]
  },
  {
   "cell_type": "code",
   "execution_count": 3,
   "metadata": {},
   "outputs": [
    {
     "name": "stdout",
     "output_type": "stream",
     "text": [
      "<class 'pandas.core.frame.DataFrame'>\n",
      "RangeIndex: 768 entries, 0 to 767\n",
      "Data columns (total 9 columns):\n",
      " #   Column                    Non-Null Count  Dtype  \n",
      "---  ------                    --------------  -----  \n",
      " 0   Pregnancies               768 non-null    int64  \n",
      " 1   Glucose                   768 non-null    int64  \n",
      " 2   BloodPressure             768 non-null    int64  \n",
      " 3   SkinThickness             768 non-null    int64  \n",
      " 4   Insulin                   768 non-null    int64  \n",
      " 5   BMI                       768 non-null    float64\n",
      " 6   DiabetesPedigreeFunction  768 non-null    float64\n",
      " 7   Age                       768 non-null    int64  \n",
      " 8   Outcome                   768 non-null    int64  \n",
      "dtypes: float64(2), int64(7)\n",
      "memory usage: 54.1 KB\n"
     ]
    }
   ],
   "source": [
    "df.info()"
   ]
  },
  {
   "cell_type": "markdown",
   "metadata": {},
   "source": [
    "### What is the data used (PIDD) ?\n",
    "\n",
    "We took  dataset from kaggle which originally registered as the public dataset namely Pima Indians Diabetes Database (PIDD) which is sourced from UCI Machine Learning Repository. This Dataset consists of the medical details for 768 instances which are pregnant female patients. The dataset comprises of 8 numeric value attributes which are:\n",
    "\n",
    "1. Number of times pregnant \n",
    "2. Plasma Glucose Concentration \n",
    "3. Diastolic Blood Pressure (mm Hg) \n",
    "4. Skin Fold Thickness (mm) \n",
    "5. 2-Hour Serum Insulin (mu U/ml) \n",
    "6. Body-Mass Index (BMI) (weight/(height)²) \n",
    "7. Diabetes Pedigree Function \n",
    "8. Class ‘0’ or ‘1’ "
   ]
  },
  {
   "cell_type": "markdown",
   "metadata": {},
   "source": [
    "#### Checking if there is any null data or not?"
   ]
  },
  {
   "cell_type": "code",
   "execution_count": 4,
   "metadata": {},
   "outputs": [
    {
     "data": {
      "text/plain": [
       "Pregnancies                 0\n",
       "Glucose                     0\n",
       "BloodPressure               0\n",
       "SkinThickness               0\n",
       "Insulin                     0\n",
       "BMI                         0\n",
       "DiabetesPedigreeFunction    0\n",
       "Age                         0\n",
       "Outcome                     0\n",
       "dtype: int64"
      ]
     },
     "execution_count": 4,
     "metadata": {},
     "output_type": "execute_result"
    }
   ],
   "source": [
    "df.isnull().sum()"
   ]
  },
  {
   "cell_type": "markdown",
   "metadata": {},
   "source": [
    "#### Summarizing each field of the dataset."
   ]
  },
  {
   "cell_type": "code",
   "execution_count": 5,
   "metadata": {},
   "outputs": [
    {
     "data": {
      "text/html": [
       "<div>\n",
       "<style scoped>\n",
       "    .dataframe tbody tr th:only-of-type {\n",
       "        vertical-align: middle;\n",
       "    }\n",
       "\n",
       "    .dataframe tbody tr th {\n",
       "        vertical-align: top;\n",
       "    }\n",
       "\n",
       "    .dataframe thead th {\n",
       "        text-align: right;\n",
       "    }\n",
       "</style>\n",
       "<table border=\"1\" class=\"dataframe\">\n",
       "  <thead>\n",
       "    <tr style=\"text-align: right;\">\n",
       "      <th></th>\n",
       "      <th>Pregnancies</th>\n",
       "      <th>Glucose</th>\n",
       "      <th>BloodPressure</th>\n",
       "      <th>SkinThickness</th>\n",
       "      <th>Insulin</th>\n",
       "      <th>BMI</th>\n",
       "      <th>DiabetesPedigreeFunction</th>\n",
       "      <th>Age</th>\n",
       "      <th>Outcome</th>\n",
       "    </tr>\n",
       "  </thead>\n",
       "  <tbody>\n",
       "    <tr>\n",
       "      <th>count</th>\n",
       "      <td>768.000000</td>\n",
       "      <td>768.000000</td>\n",
       "      <td>768.000000</td>\n",
       "      <td>768.000000</td>\n",
       "      <td>768.000000</td>\n",
       "      <td>768.000000</td>\n",
       "      <td>768.000000</td>\n",
       "      <td>768.000000</td>\n",
       "      <td>768.000000</td>\n",
       "    </tr>\n",
       "    <tr>\n",
       "      <th>mean</th>\n",
       "      <td>3.845052</td>\n",
       "      <td>120.894531</td>\n",
       "      <td>69.105469</td>\n",
       "      <td>20.536458</td>\n",
       "      <td>79.799479</td>\n",
       "      <td>31.992578</td>\n",
       "      <td>0.471876</td>\n",
       "      <td>33.240885</td>\n",
       "      <td>0.348958</td>\n",
       "    </tr>\n",
       "    <tr>\n",
       "      <th>std</th>\n",
       "      <td>3.369578</td>\n",
       "      <td>31.972618</td>\n",
       "      <td>19.355807</td>\n",
       "      <td>15.952218</td>\n",
       "      <td>115.244002</td>\n",
       "      <td>7.884160</td>\n",
       "      <td>0.331329</td>\n",
       "      <td>11.760232</td>\n",
       "      <td>0.476951</td>\n",
       "    </tr>\n",
       "    <tr>\n",
       "      <th>min</th>\n",
       "      <td>0.000000</td>\n",
       "      <td>0.000000</td>\n",
       "      <td>0.000000</td>\n",
       "      <td>0.000000</td>\n",
       "      <td>0.000000</td>\n",
       "      <td>0.000000</td>\n",
       "      <td>0.078000</td>\n",
       "      <td>21.000000</td>\n",
       "      <td>0.000000</td>\n",
       "    </tr>\n",
       "    <tr>\n",
       "      <th>25%</th>\n",
       "      <td>1.000000</td>\n",
       "      <td>99.000000</td>\n",
       "      <td>62.000000</td>\n",
       "      <td>0.000000</td>\n",
       "      <td>0.000000</td>\n",
       "      <td>27.300000</td>\n",
       "      <td>0.243750</td>\n",
       "      <td>24.000000</td>\n",
       "      <td>0.000000</td>\n",
       "    </tr>\n",
       "    <tr>\n",
       "      <th>50%</th>\n",
       "      <td>3.000000</td>\n",
       "      <td>117.000000</td>\n",
       "      <td>72.000000</td>\n",
       "      <td>23.000000</td>\n",
       "      <td>30.500000</td>\n",
       "      <td>32.000000</td>\n",
       "      <td>0.372500</td>\n",
       "      <td>29.000000</td>\n",
       "      <td>0.000000</td>\n",
       "    </tr>\n",
       "    <tr>\n",
       "      <th>75%</th>\n",
       "      <td>6.000000</td>\n",
       "      <td>140.250000</td>\n",
       "      <td>80.000000</td>\n",
       "      <td>32.000000</td>\n",
       "      <td>127.250000</td>\n",
       "      <td>36.600000</td>\n",
       "      <td>0.626250</td>\n",
       "      <td>41.000000</td>\n",
       "      <td>1.000000</td>\n",
       "    </tr>\n",
       "    <tr>\n",
       "      <th>max</th>\n",
       "      <td>17.000000</td>\n",
       "      <td>199.000000</td>\n",
       "      <td>122.000000</td>\n",
       "      <td>99.000000</td>\n",
       "      <td>846.000000</td>\n",
       "      <td>67.100000</td>\n",
       "      <td>2.420000</td>\n",
       "      <td>81.000000</td>\n",
       "      <td>1.000000</td>\n",
       "    </tr>\n",
       "  </tbody>\n",
       "</table>\n",
       "</div>"
      ],
      "text/plain": [
       "       Pregnancies     Glucose  BloodPressure  SkinThickness     Insulin  \\\n",
       "count   768.000000  768.000000     768.000000     768.000000  768.000000   \n",
       "mean      3.845052  120.894531      69.105469      20.536458   79.799479   \n",
       "std       3.369578   31.972618      19.355807      15.952218  115.244002   \n",
       "min       0.000000    0.000000       0.000000       0.000000    0.000000   \n",
       "25%       1.000000   99.000000      62.000000       0.000000    0.000000   \n",
       "50%       3.000000  117.000000      72.000000      23.000000   30.500000   \n",
       "75%       6.000000  140.250000      80.000000      32.000000  127.250000   \n",
       "max      17.000000  199.000000     122.000000      99.000000  846.000000   \n",
       "\n",
       "              BMI  DiabetesPedigreeFunction         Age     Outcome  \n",
       "count  768.000000                768.000000  768.000000  768.000000  \n",
       "mean    31.992578                  0.471876   33.240885    0.348958  \n",
       "std      7.884160                  0.331329   11.760232    0.476951  \n",
       "min      0.000000                  0.078000   21.000000    0.000000  \n",
       "25%     27.300000                  0.243750   24.000000    0.000000  \n",
       "50%     32.000000                  0.372500   29.000000    0.000000  \n",
       "75%     36.600000                  0.626250   41.000000    1.000000  \n",
       "max     67.100000                  2.420000   81.000000    1.000000  "
      ]
     },
     "execution_count": 5,
     "metadata": {},
     "output_type": "execute_result"
    }
   ],
   "source": [
    "df.describe()"
   ]
  },
  {
   "cell_type": "markdown",
   "metadata": {},
   "source": [
    "#### Here we are dividing the dependent variable(Outcome) and the independent variables."
   ]
  },
  {
   "cell_type": "code",
   "execution_count": 6,
   "metadata": {},
   "outputs": [],
   "source": [
    "x = df.drop('Outcome', axis=1)\n",
    "y = df.Outcome"
   ]
  },
  {
   "cell_type": "markdown",
   "metadata": {},
   "source": [
    "#### Importng the Standared scaler and performing the scaling of independent variable."
   ]
  },
  {
   "cell_type": "code",
   "execution_count": 7,
   "metadata": {},
   "outputs": [],
   "source": [
    "from sklearn.preprocessing import StandardScaler\n",
    "scaler = StandardScaler()\n",
    "x = scaler.fit_transform(x)"
   ]
  },
  {
   "cell_type": "code",
   "execution_count": 8,
   "metadata": {},
   "outputs": [],
   "source": [
    "#Spliting the data into training and testing sets in ratio of 80:20\n",
    "from sklearn.model_selection import train_test_split\n",
    "x_train, x_test, y_train, y_test = train_test_split(x, y, test_size=0.2, random_state=0)"
   ]
  },
  {
   "cell_type": "code",
   "execution_count": 9,
   "metadata": {},
   "outputs": [],
   "source": [
    "#importing the classification algorithms and libraries\n",
    "from sklearn.svm import SVC\n",
    "from sklearn.tree import DecisionTreeClassifier\n",
    "from sklearn.naive_bayes import GaussianNB"
   ]
  },
  {
   "cell_type": "code",
   "execution_count": 10,
   "metadata": {},
   "outputs": [],
   "source": [
    "# importing the libraries for performance measures\n",
    "from sklearn.metrics import precision_score, recall_score, f1_score, roc_auc_score, accuracy_score"
   ]
  },
  {
   "cell_type": "markdown",
   "metadata": {},
   "source": [
    "#### Grid Search cross Validation\n",
    "Here we will be using the Grid Search method for the parameter tuning of the SVC and Decision Tree. Grid Search is not used in Gaussin Naive Bayes as it does not take parameters to tune the model"
   ]
  },
  {
   "cell_type": "markdown",
   "metadata": {},
   "source": [
    "### Support Vector Classifier"
   ]
  },
  {
   "cell_type": "code",
   "execution_count": 11,
   "metadata": {},
   "outputs": [],
   "source": [
    "#Grid Search Parameters for SVC\n",
    "param_grid_svc = {'C': [0.1, 1, 10, 100, 1000],  \n",
    "              'gamma': [1, 0.1, 0.01, 0.001, 0.0001], \n",
    "              'kernel': ['rbf']}"
   ]
  },
  {
   "cell_type": "code",
   "execution_count": 12,
   "metadata": {},
   "outputs": [
    {
     "name": "stdout",
     "output_type": "stream",
     "text": [
      "For SVC\n",
      "\n",
      "The Best parameters are: {'C': 1000, 'gamma': 0.0001, 'kernel': 'rbf'}\n",
      "\n",
      "The Best grid search score (mean of cross_val_score of best estimator): 0.7588841882601799\n",
      "\n",
      "The score of the best estimator: 0.8246753246753247\n",
      "\n",
      "The best estimator selected by grid search: \n",
      "SVC(C=1000, break_ties=False, cache_size=200, class_weight=None, coef0=0.0,\n",
      "    decision_function_shape='ovr', degree=3, gamma=0.0001, kernel='rbf',\n",
      "    max_iter=-1, probability=False, random_state=0, shrinking=True, tol=0.001,\n",
      "    verbose=False)\n"
     ]
    }
   ],
   "source": [
    "#Building the SVC with best parameters available\n",
    "from sklearn.model_selection import GridSearchCV\n",
    "svc = SVC(random_state=0)\n",
    "grid_search_svc = GridSearchCV(svc, param_grid = param_grid_svc, cv= 10 , return_train_score=True, n_jobs = 5 )\n",
    "grid_search_svc.fit(x_train, y_train)\n",
    "y_pred_svc = grid_search_svc.predict(x_test)\n",
    "print(\"For SVC\\n\")\n",
    "print(\"The Best parameters are: \" + str(grid_search_svc.best_params_)+'\\n')\n",
    "print(\"The Best grid search score (mean of cross_val_score of best estimator): \" + str(grid_search_svc.best_score_)+'\\n')\n",
    "print(\"The score of the best estimator: \" + str(grid_search_svc.score(x_test, y_test))+'\\n')\n",
    "print(\"The best estimator selected by grid search: \\n\" + str(grid_search_svc.best_estimator_))"
   ]
  },
  {
   "cell_type": "code",
   "execution_count": 13,
   "metadata": {},
   "outputs": [
    {
     "name": "stdout",
     "output_type": "stream",
     "text": [
      "Accuracy: 0.82\n",
      "Precision Score: 0.76\n",
      "Recall Score: 0.62\n",
      "F1-Score: 0.68\n",
      "ROC-AUC Score: 0.77\n"
     ]
    },
    {
     "data": {
      "image/png": "[encoded data removed]",
      "text/plain": [
       "<Figure size 432x288 with 1 Axes>"
      ]
     },
     "metadata": {
      "needs_background": "light"
     },
     "output_type": "display_data"
    }
   ],
   "source": [
    "#Plotting the performance measures\n",
    "acc_svc = round(accuracy_score(y_test, y_pred_svc),2)\n",
    "print(\"Accuracy: \" + str(acc_svc))\n",
    "precision_svc = round(precision_score(y_test, y_pred_svc), 2)\n",
    "print('Precision Score: ' + str(precision_svc))\n",
    "recall_svc = round(recall_score(y_test, y_pred_svc),2)\n",
    "print('Recall Score: ' + str(recall_svc))\n",
    "f1_svc = round(f1_score(y_test, y_pred_svc),2)\n",
    "print(\"F1-Score: \" + str(f1_svc))\n",
    "roc_svc = round(roc_auc_score(y_test, y_pred_svc),2)\n",
    "print(\"ROC-AUC Score: \" + str(roc_svc))\n",
    "\n",
    "scores = [acc_svc, precision_svc, recall_svc, f1_svc, roc_svc]\n",
    "plt.bar(range(len(scores)), scores)\n",
    "plt.xticks(range(len(scores)), labels=['Accuracy','Precision','Recall', 'F1-Score', 'ROC-AUC'])\n",
    "plt.ylabel('Accuracy %')\n",
    "plt.title(\"Performance of SVC\")\n",
    "plt.show()"
   ]
  },
  {
   "cell_type": "code",
   "execution_count": 14,
   "metadata": {},
   "outputs": [
    {
     "data": {
      "image/png": "[encoded data removed]",
      "text/plain": [
       "<Figure size 432x288 with 2 Axes>"
      ]
     },
     "metadata": {
      "needs_background": "light"
     },
     "output_type": "display_data"
    }
   ],
   "source": [
    "#PLotting the Confusion matrix\n",
    "from sklearn.metrics import plot_confusion_matrix\n",
    "plot_confusion_matrix(grid_search_svc, x_test, y_test,cmap=plt.cm.Blues)\n",
    "plt.title('Confusion_matrix for SVC')\n",
    "plt.show()"
   ]
  },
  {
   "cell_type": "markdown",
   "metadata": {},
   "source": [
    "### Decision Tree"
   ]
  },
  {
   "cell_type": "code",
   "execution_count": 15,
   "metadata": {},
   "outputs": [],
   "source": [
    "# grid parameters for DecisionTree\n",
    "grid_param_dt = {\n",
    "    'max_depth':[3,4,5,6,7],\n",
    "    'min_samples_split':[2,5,10,15,20],\n",
    "    'min_samples_leaf':[5,10,15,20],\n",
    "    'max_leaf_nodes':[5,10,15,20,25]\n",
    "}"
   ]
  },
  {
   "cell_type": "code",
   "execution_count": 16,
   "metadata": {},
   "outputs": [
    {
     "name": "stdout",
     "output_type": "stream",
     "text": [
      "The Best parameters are: {'max_depth': 5, 'max_leaf_nodes': 10, 'min_samples_leaf': 20, 'min_samples_split': 2}\n",
      "\n",
      "The Best grid search score (mean of cross_val_score of best estimator): 0.7377578001057641\n",
      "\n",
      "The score of the best estimator: 0.7792207792207793\n",
      "\n",
      "The best estimator selected by grid search: \n",
      "DecisionTreeClassifier(ccp_alpha=0.0, class_weight=None, criterion='gini',\n",
      "                       max_depth=5, max_features=None, max_leaf_nodes=10,\n",
      "                       min_impurity_decrease=0.0, min_impurity_split=None,\n",
      "                       min_samples_leaf=20, min_samples_split=2,\n",
      "                       min_weight_fraction_leaf=0.0, presort='deprecated',\n",
      "                       random_state=None, splitter='best')\n"
     ]
    }
   ],
   "source": [
    "#Building the Decision Tree with best parameters available\n",
    "dt = DecisionTreeClassifier()\n",
    "grid_search_dt = GridSearchCV(dt, param_grid = grid_param_dt, cv=10, return_train_score=True)\n",
    "grid_search_dt.fit(x_train, y_train)\n",
    "y_pred_dt = grid_search_dt.predict(x_test)\n",
    "print(\"The Best parameters are: \" + str(grid_search_dt.best_params_)+'\\n')\n",
    "print(\"The Best grid search score (mean of cross_val_score of best estimator): \" + str(grid_search_dt.best_score_)+'\\n')\n",
    "print(\"The score of the best estimator: \" + str(grid_search_dt.score(x_test, y_test))+'\\n')\n",
    "print(\"The best estimator selected by grid search: \\n\" + str(grid_search_dt.best_estimator_))"
   ]
  },
  {
   "cell_type": "code",
   "execution_count": 17,
   "metadata": {},
   "outputs": [
    {
     "name": "stdout",
     "output_type": "stream",
     "text": [
      "Accuracy: 0.78\n",
      "Precision Score: 0.72\n",
      "Recall Score: 0.45\n",
      "F1-Score: 0.55\n",
      "ROC-AUC Score: 0.69\n"
     ]
    },
    {
     "data": {
      "image/png": "[encoded data removed]",
      "text/plain": [
       "<Figure size 432x288 with 1 Axes>"
      ]
     },
     "metadata": {
      "needs_background": "light"
     },
     "output_type": "display_data"
    }
   ],
   "source": [
    "#Plotting the performance measure\n",
    "acc_dt = round(accuracy_score(y_test, y_pred_dt),2)\n",
    "print(\"Accuracy: \" + str(acc_dt))\n",
    "precision_dt = round(precision_score(y_test, y_pred_dt), 2)\n",
    "print('Precision Score: ' + str(precision_dt))\n",
    "recall_dt = round(recall_score(y_test, y_pred_dt),2)\n",
    "print('Recall Score: ' + str(recall_dt))\n",
    "f1_dt = round(f1_score(y_test, y_pred_dt),2)\n",
    "print(\"F1-Score: \" + str(f1_dt))\n",
    "roc_dt = round(roc_auc_score(y_test, y_pred_dt),2)\n",
    "print(\"ROC-AUC Score: \" + str(roc_dt))\n",
    "\n",
    "scores = [acc_dt, precision_dt, recall_dt, f1_dt, roc_dt]\n",
    "plt.bar(range(len(scores)), scores)\n",
    "plt.xticks(range(len(scores)), labels=['Accuracy','Precision','Recall', 'F1-Score', 'ROC-AUC'])\n",
    "plt.ylabel('Accuracy %')\n",
    "plt.title(\"Performance of Decision Tree\")\n",
    "plt.show()"
   ]
  },
  {
   "cell_type": "code",
   "execution_count": 18,
   "metadata": {},
   "outputs": [
    {
     "data": {
      "image/png": "[encoded data removed]",
      "text/plain": [
       "<Figure size 432x288 with 2 Axes>"
      ]
     },
     "metadata": {
      "needs_background": "light"
     },
     "output_type": "display_data"
    }
   ],
   "source": [
    "#PLotting the confusion matrix\n",
    "plot_confusion_matrix(grid_search_dt, x_test, y_test,cmap=plt.cm.Blues)\n",
    "plt.title('Confusion_matrix for Decisino Tree')\n",
    "plt.show()"
   ]
  },
  {
   "cell_type": "markdown",
   "metadata": {},
   "source": [
    "### Guassian Nayes Bayes"
   ]
  },
  {
   "cell_type": "markdown",
   "metadata": {},
   "source": [
    "The Guassian Nayes Bayes method does not take parameters while building the model, so we will not use grid search method for this algorithm"
   ]
  },
  {
   "cell_type": "code",
   "execution_count": 19,
   "metadata": {},
   "outputs": [
    {
     "name": "stdout",
     "output_type": "stream",
     "text": [
      "The scores returned by the cross validation: [0.72727273 0.75324675 0.79220779 0.71428571 0.71428571 0.79220779\n",
      " 0.76623377 0.80519481 0.72368421 0.77631579]\n",
      "\n",
      "The generalized score of the cross_val: 0.7564935064935066\n",
      "The score of the train accuracy: 0.757328990228013\n",
      "\n"
     ]
    }
   ],
   "source": [
    "# For GuassianNB\n",
    "from sklearn.model_selection import cross_val_score\n",
    "nb = GaussianNB()\n",
    "cross_val = cross_val_score(nb,x,y, cv=10)\n",
    "nb.fit(x_train, y_train)\n",
    "y_pred_nb = nb.predict(x_test)\n",
    "print(\"The scores returned by the cross validation: \" + str(cross_val)+ '\\n')\n",
    "print(\"The generalized score of the cross_val: \" + str(np.mean(cross_val)))\n",
    "print(\"The score of the train accuracy: \" + str(nb.score(x_train, y_train))+'\\n')\n"
   ]
  },
  {
   "cell_type": "code",
   "execution_count": 20,
   "metadata": {},
   "outputs": [
    {
     "name": "stdout",
     "output_type": "stream",
     "text": [
      "Accuracy: 0.76\n",
      "Precision Score: 0.67\n",
      "Recall Score: 0.62\n",
      "F1-Score: 0.64\n",
      "ROC-AUC Score: 0.74\n"
     ]
    },
    {
     "data": {
      "image/png": "[encoded data removed]",
      "text/plain": [
       "<Figure size 432x288 with 1 Axes>"
      ]
     },
     "metadata": {
      "needs_background": "light"
     },
     "output_type": "display_data"
    }
   ],
   "source": [
    "#Plotting the performance measure of Gaussin Naive Bayes\n",
    "acc_nb = round(np.mean(cross_val),2)\n",
    "print(\"Accuracy: \" + str(acc_nb))\n",
    "precision_nb = round(precision_score(y_test, y_pred_nb), 2)\n",
    "print('Precision Score: ' + str(precision_nb))\n",
    "recall_nb = round(recall_score(y_test, y_pred_nb),2)\n",
    "print('Recall Score: ' + str(recall_nb))\n",
    "f1_nb = round(f1_score(y_test, y_pred_nb),2)\n",
    "print(\"F1-Score: \" + str(f1_nb))\n",
    "roc_nb = round(roc_auc_score(y_test, y_pred_nb),2)\n",
    "print(\"ROC-AUC Score: \" + str(roc_nb))\n",
    "\n",
    "scores = [acc_nb, precision_nb, recall_nb, f1_nb, roc_nb]\n",
    "plt.bar(range(len(scores)), scores)\n",
    "plt.xticks(range(len(scores)), labels=['Accuracy','Precision','Recall', 'F1-Score', 'ROC-AUC'])\n",
    "plt.ylabel('Accuracy %')\n",
    "plt.title(\"Performance of Gaussian Naive Bayes\")\n",
    "plt.show()"
   ]
  },
  {
   "cell_type": "code",
   "execution_count": 21,
   "metadata": {},
   "outputs": [
    {
     "data": {
      "image/png": "[encoded data removed]",
      "text/plain": [
       "<Figure size 432x288 with 2 Axes>"
      ]
     },
     "metadata": {
      "needs_background": "light"
     },
     "output_type": "display_data"
    }
   ],
   "source": [
    "#Plotting the confusion matrix\n",
    "plot_confusion_matrix(nb, x_test, y_test,cmap=plt.cm.Blues)\n",
    "plt.title('Confusion_matrix for Gaussin Naive Bayes')\n",
    "plt.show()"
   ]
  },
  {
   "cell_type": "markdown",
   "metadata": {},
   "source": [
    "### Random Forest Classifier"
   ]
  },
  {
   "cell_type": "code",
   "execution_count": 22,
   "metadata": {},
   "outputs": [
    {
     "name": "stdout",
     "output_type": "stream",
     "text": [
      "For the model with n_estimators: 5\n",
      "The cross validation score for each fold is: [0.66129032 0.69354839 0.66129032 0.80645161 0.73770492 0.70491803\n",
      " 0.70491803 0.62295082 0.68852459 0.73770492]\n",
      "The mean of cross validation score: 0.7019301956636701\n",
      "\n",
      "For the model with n_estimators: 7\n",
      "The cross validation score for each fold is: [0.70967742 0.67741935 0.72580645 0.77419355 0.73770492 0.7704918\n",
      " 0.68852459 0.63934426 0.68852459 0.72131148]\n",
      "The mean of cross validation score: 0.7132998413537811\n",
      "\n",
      "For the model with n_estimators: 9\n",
      "The cross validation score for each fold is: [0.72580645 0.66129032 0.75806452 0.82258065 0.72131148 0.78688525\n",
      " 0.68852459 0.63934426 0.72131148 0.73770492]\n",
      "The mean of cross validation score: 0.7262823902696984\n",
      "\n",
      "For the model with n_estimators: 11\n",
      "The cross validation score for each fold is: [0.74193548 0.69354839 0.77419355 0.80645161 0.72131148 0.78688525\n",
      " 0.68852459 0.67213115 0.73770492 0.78688525]\n",
      "The mean of cross validation score: 0.7409571655208883\n",
      "\n"
     ]
    }
   ],
   "source": [
    "from sklearn.ensemble import RandomForestClassifier\n",
    "n_est = np.arange(5,12,2)\n",
    "for i in n_est:\n",
    "    rf = RandomForestClassifier(n_estimators=i, random_state=860)\n",
    "    cross_score = cross_val_score(rf,x_train, y_train, cv=10)\n",
    "    print(\"For the model with n_estimators: \" + str(i))\n",
    "    print(\"The cross validation score for each fold is: \" + str(cross_score))\n",
    "    print(\"The mean of cross validation score: \" + str(np.mean(cross_score)) + '\\n')"
   ]
  },
  {
   "cell_type": "code",
   "execution_count": 23,
   "metadata": {
    "scrolled": true
   },
   "outputs": [
    {
     "name": "stdout",
     "output_type": "stream",
     "text": [
      "The Best parameters are: {'max_depth': 5, 'max_leaf_nodes': 10, 'min_samples_leaf': 15}\n",
      "\n",
      "The Best grid search score (mean of cross_val_score of best estimator): 0.7621628767847699\n",
      "\n",
      "The score of the best estimator: 0.8051948051948052\n",
      "\n",
      "The best estimator selected by grid search: RandomForestClassifier(bootstrap=True, ccp_alpha=0.0, class_weight=None,\n",
      "                       criterion='gini', max_depth=5, max_features='auto',\n",
      "                       max_leaf_nodes=10, max_samples=None,\n",
      "                       min_impurity_decrease=0.0, min_impurity_split=None,\n",
      "                       min_samples_leaf=15, min_samples_split=2,\n",
      "                       min_weight_fraction_leaf=0.0, n_estimators=11,\n",
      "                       n_jobs=None, oob_score=False, random_state=860,\n",
      "                       verbose=0, warm_start=False)\n"
     ]
    }
   ],
   "source": [
    "param_grid = {\n",
    "    'max_depth':[3,4,5],\n",
    "    'max_leaf_nodes':[10,15,20],\n",
    "    'min_samples_leaf':[10,15,20,25]\n",
    "}\n",
    "rf_best = RandomForestClassifier(n_estimators=11, random_state=860)\n",
    "grid_search = GridSearchCV(rf_best, param_grid, cv=10, return_train_score=True)\n",
    "grid_search.fit(x_train, y_train)\n",
    "y_pred = grid_search.predict(x_test)\n",
    "print(\"The Best parameters are: \" + str(grid_search.best_params_)+'\\n')\n",
    "print(\"The Best grid search score (mean of cross_val_score of best estimator): \" + str(grid_search.best_score_)+'\\n')\n",
    "print(\"The score of the best estimator: \" + str(grid_search.score(x_test, y_test))+'\\n')\n",
    "print(\"The best estimator selected by grid search: \" + str(grid_search.best_estimator_))"
   ]
  },
  {
   "cell_type": "code",
   "execution_count": 24,
   "metadata": {},
   "outputs": [
    {
     "name": "stdout",
     "output_type": "stream",
     "text": [
      "Accuracy: 0.81\n",
      "Precision Score: 0.74\n",
      "Recall Score: 0.55\n",
      "F1-Score: 0.63\n",
      "ROC-AUC Score: 0.73\n"
     ]
    },
    {
     "data": {
      "image/png": "[encoded data removed]",
      "text/plain": [
       "<Figure size 432x288 with 1 Axes>"
      ]
     },
     "metadata": {
      "needs_background": "light"
     },
     "output_type": "display_data"
    },
    {
     "data": {
      "image/png": "[encoded data removed]",
      "text/plain": [
       "<Figure size 432x288 with 2 Axes>"
      ]
     },
     "metadata": {
      "needs_background": "light"
     },
     "output_type": "display_data"
    }
   ],
   "source": [
    "#Plotting the performance measure\n",
    "acc_rf = round(accuracy_score(y_test, y_pred),2)\n",
    "print(\"Accuracy: \" + str(acc_rf))\n",
    "precision_rf = round(precision_score(y_test, y_pred), 2)\n",
    "print('Precision Score: ' + str(precision_rf))\n",
    "recall_rf = round(recall_score(y_test, y_pred),2)\n",
    "print('Recall Score: ' + str(recall_rf))\n",
    "f1_rf = round(f1_score(y_test, y_pred),2)\n",
    "print(\"F1-Score: \" + str(f1_rf))\n",
    "roc_rf = round(roc_auc_score(y_test, y_pred),2)\n",
    "print(\"ROC-AUC Score: \" + str(roc_rf))\n",
    "\n",
    "scores = [acc_rf, precision_rf, recall_rf, f1_rf, roc_rf]\n",
    "plt.bar(range(len(scores)), scores)\n",
    "plt.xticks(range(len(scores)), labels=['Accuracy','Precision','Recall', 'F1-Score', 'ROC-AUC'])\n",
    "plt.ylabel('Accuracy %')\n",
    "plt.title(\"Performance of Random Forest\")\n",
    "plt.show()\n",
    "\n",
    "#Plotting the confusion matrix\n",
    "plot_confusion_matrix(grid_search, x_test, y_test,cmap=plt.cm.Blues)\n",
    "plt.title('Confusion_matrix for Random Forest')\n",
    "plt.show()"
   ]
  },
  {
   "cell_type": "markdown",
   "metadata": {},
   "source": [
    " "
   ]
  },
  {
   "cell_type": "markdown",
   "metadata": {},
   "source": [
    " "
   ]
  },
  {
   "cell_type": "markdown",
   "metadata": {},
   "source": [
    "### XGBoost Classifier"
   ]
  },
  {
   "cell_type": "code",
   "execution_count": 25,
   "metadata": {},
   "outputs": [
    {
     "name": "stdout",
     "output_type": "stream",
     "text": [
      "For the model with n_estimators: 5\n",
      "The cross validation score for each fold is: [0.66129032 0.72580645 0.80645161 0.83870968 0.70491803 0.80327869\n",
      " 0.73770492 0.68852459 0.75409836 0.75409836]\n",
      "The mean of cross validation score: 0.74748810153358\n",
      "\n",
      "For the model with n_estimators: 7\n",
      "The cross validation score for each fold is: [0.69354839 0.72580645 0.80645161 0.83870968 0.70491803 0.80327869\n",
      " 0.73770492 0.68852459 0.73770492 0.7704918 ]\n",
      "The mean of cross validation score: 0.750713907985193\n",
      "\n",
      "For the model with n_estimators: 9\n",
      "The cross validation score for each fold is: [0.69354839 0.72580645 0.83870968 0.82258065 0.73770492 0.80327869\n",
      " 0.72131148 0.68852459 0.75409836 0.7704918 ]\n",
      "The mean of cross validation score: 0.7556054997355897\n",
      "\n",
      "For the model with n_estimators: 11\n",
      "The cross validation score for each fold is: [0.67741935 0.72580645 0.83870968 0.82258065 0.73770492 0.78688525\n",
      " 0.70491803 0.68852459 0.75409836 0.75409836]\n",
      "The mean of cross validation score: 0.7490745637228979\n",
      "\n"
     ]
    }
   ],
   "source": [
    "from xgboost import XGBClassifier\n",
    "for i in n_est:\n",
    "    xgb = XGBClassifier(n_estimators= i, random_state=860)\n",
    "    cross_score_xg = cross_val_score(xgb,x_train, y_train, cv=10)\n",
    "    print(\"For the model with n_estimators: \" +str(i))\n",
    "    print(\"The cross validation score for each fold is: \" + str(cross_score_xg))\n",
    "    print(\"The mean of cross validation score: \" + str(np.mean(cross_score_xg)) + '\\n')"
   ]
  },
  {
   "cell_type": "code",
   "execution_count": 26,
   "metadata": {},
   "outputs": [
    {
     "name": "stdout",
     "output_type": "stream",
     "text": [
      "The Best parameters are: {'max_depth': 3, 'max_leaf_nodes': 10, 'min_samples_leaf': 10}\n",
      "\n",
      "The Best grid search score (mean of cross_val_score of best estimator): 0.7556054997355897\n",
      "\n",
      "The score of the best estimator: 0.7792207792207793\n",
      "\n",
      "The best estimator selected by grid search: \n",
      "XGBClassifier(base_score=0.5, booster='gbtree', colsample_bylevel=1,\n",
      "              colsample_bynode=1, colsample_bytree=1, gamma=0,\n",
      "              learning_rate=0.1, max_delta_step=0, max_depth=3,\n",
      "              max_leaf_nodes=10, min_child_weight=1, min_samples_leaf=10,\n",
      "              missing=None, n_estimators=9, n_jobs=1, nthread=None,\n",
      "              objective='binary:logistic', random_state=860, reg_alpha=0,\n",
      "              reg_lambda=1, scale_pos_weight=1, seed=None, silent=None,\n",
      "              subsample=1, verbosity=1)\n"
     ]
    }
   ],
   "source": [
    "xgb_best = XGBClassifier(n_estimators=9, random_state=860)\n",
    "grid_search_xgb = GridSearchCV(xgb_best, param_grid, cv=10, return_train_score=True)\n",
    "grid_search_xgb.fit(x_train, y_train)\n",
    "y_pred = grid_search_xgb.predict(x_test)\n",
    "print(\"The Best parameters are: \" + str(grid_search_xgb.best_params_)+'\\n')\n",
    "print(\"The Best grid search score (mean of cross_val_score of best estimator): \" + str(grid_search_xgb.best_score_)+'\\n')\n",
    "print(\"The score of the best estimator: \" + str(grid_search_xgb.score(x_test, y_test))+'\\n')\n",
    "print(\"The best estimator selected by grid search: \\n\" + str(grid_search_xgb.best_estimator_))"
   ]
  },
  {
   "cell_type": "code",
   "execution_count": 27,
   "metadata": {},
   "outputs": [
    {
     "name": "stdout",
     "output_type": "stream",
     "text": [
      "Accuracy: 0.78\n",
      "Precision Score: 0.67\n",
      "Recall Score: 0.55\n",
      "F1-Score: 0.6\n",
      "ROC-AUC Score: 0.72\n"
     ]
    },
    {
     "data": {
      "image/png": "[encoded data removed]",
      "text/plain": [
       "<Figure size 432x288 with 1 Axes>"
      ]
     },
     "metadata": {
      "needs_background": "light"
     },
     "output_type": "display_data"
    },
    {
     "data": {
      "image/png": "[encoded data removed]",
      "text/plain": [
       "<Figure size 432x288 with 2 Axes>"
      ]
     },
     "metadata": {
      "needs_background": "light"
     },
     "output_type": "display_data"
    }
   ],
   "source": [
    "#Plotting the performance measure\n",
    "acc_xg = round(accuracy_score(y_test, y_pred),2)\n",
    "print(\"Accuracy: \" + str(acc_xg))\n",
    "precision_xg = round(precision_score(y_test, y_pred), 2)\n",
    "print('Precision Score: ' + str(precision_xg))\n",
    "recall_xg = round(recall_score(y_test, y_pred),2)\n",
    "print('Recall Score: ' + str(recall_xg))\n",
    "f1_xg = round(f1_score(y_test, y_pred),2)\n",
    "print(\"F1-Score: \" + str(f1_xg))\n",
    "roc_xg = round(roc_auc_score(y_test, y_pred),2)\n",
    "print(\"ROC-AUC Score: \" + str(roc_xg))\n",
    "\n",
    "scores = [acc_xg, precision_xg, recall_xg, f1_xg, roc_xg]\n",
    "plt.bar(range(len(scores)), scores)\n",
    "plt.xticks(range(len(scores)), labels=['Accuracy','Precision','Recall', 'F1-Score', 'ROC-AUC'])\n",
    "plt.ylabel('Accuracy %')\n",
    "plt.title(\"Performance of XGBoost\")\n",
    "plt.show()\n",
    "\n",
    "#Plotting the confusion matrix\n",
    "plot_confusion_matrix(grid_search_xgb, x_test, y_test,cmap=plt.cm.Blues)\n",
    "plt.title('Confusion_matrix for XGBoost')\n",
    "plt.show()"
   ]
  },
  {
   "cell_type": "markdown",
   "metadata": {},
   "source": [
    " "
   ]
  },
  {
   "cell_type": "markdown",
   "metadata": {},
   "source": [
    "### Comparing the performance of all models"
   ]
  },
  {
   "cell_type": "code",
   "execution_count": 28,
   "metadata": {},
   "outputs": [
    {
     "data": {
      "text/html": [
       "<div>\n",
       "<style scoped>\n",
       "    .dataframe tbody tr th:only-of-type {\n",
       "        vertical-align: middle;\n",
       "    }\n",
       "\n",
       "    .dataframe tbody tr th {\n",
       "        vertical-align: top;\n",
       "    }\n",
       "\n",
       "    .dataframe thead th {\n",
       "        text-align: right;\n",
       "    }\n",
       "</style>\n",
       "<table border=\"1\" class=\"dataframe\">\n",
       "  <thead>\n",
       "    <tr style=\"text-align: right;\">\n",
       "      <th></th>\n",
       "      <th>Model</th>\n",
       "      <th>Accurary %</th>\n",
       "      <th>Recall</th>\n",
       "      <th>Precision</th>\n",
       "      <th>F-Measure</th>\n",
       "      <th>ROC</th>\n",
       "    </tr>\n",
       "  </thead>\n",
       "  <tbody>\n",
       "    <tr>\n",
       "      <th>0</th>\n",
       "      <td>SVC</td>\n",
       "      <td>0.82</td>\n",
       "      <td>0.62</td>\n",
       "      <td>0.76</td>\n",
       "      <td>0.68</td>\n",
       "      <td>0.77</td>\n",
       "    </tr>\n",
       "    <tr>\n",
       "      <th>1</th>\n",
       "      <td>Decision Tree</td>\n",
       "      <td>0.78</td>\n",
       "      <td>0.45</td>\n",
       "      <td>0.72</td>\n",
       "      <td>0.55</td>\n",
       "      <td>0.69</td>\n",
       "    </tr>\n",
       "    <tr>\n",
       "      <th>2</th>\n",
       "      <td>GaussianNB</td>\n",
       "      <td>0.76</td>\n",
       "      <td>0.62</td>\n",
       "      <td>0.67</td>\n",
       "      <td>0.64</td>\n",
       "      <td>0.74</td>\n",
       "    </tr>\n",
       "    <tr>\n",
       "      <th>3</th>\n",
       "      <td>Random Forest</td>\n",
       "      <td>0.81</td>\n",
       "      <td>0.55</td>\n",
       "      <td>0.74</td>\n",
       "      <td>0.63</td>\n",
       "      <td>0.73</td>\n",
       "    </tr>\n",
       "    <tr>\n",
       "      <th>4</th>\n",
       "      <td>XGBoost</td>\n",
       "      <td>0.78</td>\n",
       "      <td>0.55</td>\n",
       "      <td>0.67</td>\n",
       "      <td>0.60</td>\n",
       "      <td>0.72</td>\n",
       "    </tr>\n",
       "  </tbody>\n",
       "</table>\n",
       "</div>"
      ],
      "text/plain": [
       "           Model  Accurary %  Recall  Precision  F-Measure   ROC\n",
       "0            SVC        0.82    0.62       0.76       0.68  0.77\n",
       "1  Decision Tree        0.78    0.45       0.72       0.55  0.69\n",
       "2     GaussianNB        0.76    0.62       0.67       0.64  0.74\n",
       "3  Random Forest        0.81    0.55       0.74       0.63  0.73\n",
       "4        XGBoost        0.78    0.55       0.67       0.60  0.72"
      ]
     },
     "execution_count": 28,
     "metadata": {},
     "output_type": "execute_result"
    }
   ],
   "source": [
    "models=['SVC', 'Decision Tree', 'GaussianNB', \"Random Forest\", \"XGBoost\"]\n",
    "scores=[acc_svc, acc_dt, acc_nb, acc_rf, acc_xg]\n",
    "recalls=[recall_svc, recall_dt, recall_nb, recall_rf, recall_xg]\n",
    "pscores=[precision_svc,precision_dt,precision_nb, precision_rf, precision_xg]\n",
    "f1=[f1_svc,f1_dt,f1_nb, f1_rf, f1_xg]\n",
    "roc=[roc_svc,roc_dt,roc_nb, roc_rf, roc_xg]\n",
    "Accuracy_df = pd.DataFrame(\n",
    "    {\n",
    "        \"Model\":models,\n",
    "        \"Accurary %\":scores,\n",
    "        \"Recall\": recalls,\n",
    "        \"Precision\": pscores,\n",
    "        \"F-Measure\":f1,\n",
    "        \"ROC\":roc\n",
    "        \n",
    "    }\n",
    ")\n",
    "Accuracy_df"
   ]
  },
  {
   "cell_type": "code",
   "execution_count": 32,
   "metadata": {},
   "outputs": [
    {
     "data": {
      "image/png": "[encoded data removed]",
      "text/plain": [
       "<Figure size 432x288 with 5 Axes>"
      ]
     },
     "metadata": {
      "needs_background": "light"
     },
     "output_type": "display_data"
    }
   ],
   "source": [
    "plt.figure()\n",
    "\n",
    "plt.subplot(321)\n",
    "plt.bar(range(len(scores)), scores)\n",
    "plt.xticks(range(len(scores)), labels=models)\n",
    "plt.xlabel('MODELS')\n",
    "plt.ylabel('Accuracy %')\n",
    "plt.title(\"Accuracy of Models\")\n",
    "\n",
    "plt.subplot(322)\n",
    "plt.bar(range(len(recalls)), recalls)\n",
    "plt.xticks(range(len(recalls)), labels=models)\n",
    "plt.xlabel('MODELS')\n",
    "plt.ylabel('Recall')\n",
    "plt.title(\"Recall of Models\")\n",
    "\n",
    "plt.subplot(323)\n",
    "plt.bar(range(len(pscores)), pscores)\n",
    "plt.xticks(range(len(pscores)), labels=models)\n",
    "plt.xlabel('MODELS')\n",
    "plt.ylabel('Precision')\n",
    "plt.title(\"Precision of Models\")\n",
    "\n",
    "plt.subplot(324)\n",
    "plt.bar(range(len(f1)), f1)\n",
    "plt.xticks(range(len(f1)), labels=models)\n",
    "plt.xlabel('MODELS')\n",
    "plt.ylabel('F-Measure')\n",
    "plt.title(\"F-Measure of Models\")\n",
    "\n",
    "plt.subplot(325)\n",
    "plt.bar(range(len(roc)), roc)\n",
    "plt.xticks(range(len(roc)), labels=models)\n",
    "plt.xlabel('Models')\n",
    "plt.ylabel('ROC score')\n",
    "plt.title(\"ROC-AUC Score of Models\")\n",
    "\n",
    "plt.subplots_adjust(top=2.5, bottom=-0.25, left=0, right=2.2, hspace=0.4,\n",
    "                    wspace=0.12)\n",
    "plt.savefig('performance measure.png',dpi=300, bbox_inches='tight')\n",
    "plt.show()\n"
   ]
  },
  {
   "cell_type": "markdown",
   "metadata": {},
   "source": [
    "##### Plotting the ROC Curve of Each Model"
   ]
  },
  {
   "cell_type": "code",
   "execution_count": 33,
   "metadata": {},
   "outputs": [
    {
     "data": {
      "image/png": "[encoded data removed]",
      "text/plain": [
       "<Figure size 432x288 with 1 Axes>"
      ]
     },
     "metadata": {
      "needs_background": "light"
     },
     "output_type": "display_data"
    }
   ],
   "source": [
    "from sklearn.metrics import roc_curve\n",
    "fpr_svc, tpr_svc, t= roc_curve(y_test, grid_search_svc.decision_function(x_test))\n",
    "fpr_dt, tpr_dt, t = roc_curve(y_test, grid_search_dt.predict_proba(x_test)[:,1])\n",
    "fpr_nb, tpr_nb, t = roc_curve(y_test, nb.predict_proba(x_test)[:,1])\n",
    "fpr_rf, tpr_rf, t= roc_curve(y_test, grid_search.predict_proba(x_test)[:,1])\n",
    "fpr_xg, tpr_xg, t = roc_curve(y_test, grid_search_xgb.predict_proba(x_test)[:,1])\n",
    "\n",
    "plt.plot(fpr_rf, tpr_rf, label = \"Random forest - ROC curve\")\n",
    "plt.plot(fpr_xg, tpr_xg, label = \"XGB - ROC curve\")\n",
    "plt.plot(fpr_svc, tpr_svc, label = \"SVC - ROC curve\")\n",
    "plt.plot(fpr_dt, tpr_dt, label = \"DT - ROC curve\")\n",
    "plt.plot(fpr_nb, tpr_nb, label = \"GaussianNB - ROC curve\")\n",
    "plt.title('The ROC curve for three models')\n",
    "plt.xlabel('FPR')\n",
    "plt.ylabel('TPR')\n",
    "plt.legend(loc=4)\n",
    "\n",
    "plt.savefig('roc.png',dpi=300, bbox_inches='tight')\n",
    "plt.show()"
   ]
  },
  {
   "cell_type": "markdown",
   "metadata": {},
   "source": [
    "## Conclusion :\n",
    "\n",
    "- We trained SVC, DecisionTree, Random Forest, XGBoost using the GridSearchCV with internal 10 fold cross validation to find the best model using different parameters and Gaussin Naive Bayes with 10 folds cross validation to get a generalized score.\n",
    "- For measuring the performance of these models we used various mesures such as Accuracy, Precision, Recall, F-Measures and ROC which one can see in the table above the plots.\n",
    "- As it is clearly visible that all three models works similar for this dataset. So the best suprvised Machine Learning algorithm is Support Vector Classifier (SVC) with the 82% accuracy and 0.76 Precision on test dataset in respective to other data models for this experiment.\n",
    "- The results we have obtained are within the range expected in the project proposal (75-80%), which is a good indicator as we have got results in the upper bound of expected range.\n",
    "-  we conclude During this experiment, we learn diffrent classification methods and ensemble methods and evalute them on various measures."
   ]
  },
  {
   "cell_type": "code",
   "execution_count": null,
   "metadata": {},
   "outputs": [],
   "source": []
  }
 ],
 "metadata": {
  "kernelspec": {
   "display_name": "Python 3",
   "language": "python",
   "name": "python3"
  },
  "language_info": {
   "codemirror_mode": {
    "name": "ipython",
    "version": 3
   },
   "file_extension": ".py",
   "mimetype": "text/x-python",
   "name": "python",
   "nbconvert_exporter": "python",
   "pygments_lexer": "ipython3",
   "version": "3.8.5"
  }
 },
 "nbformat": 4,
 "nbformat_minor": 4
}
